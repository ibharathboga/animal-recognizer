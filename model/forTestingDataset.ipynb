{
 "cells": [
  {
   "cell_type": "code",
   "execution_count": 128,
   "metadata": {},
   "outputs": [],
   "source": [
    "from arecognizer import identifyAnimal\n",
    "\n",
    "import pandas as pd\n",
    "import os\n",
    "import shutil\n",
    "\n",
    "datasetPath = r\"model\\animals\"\n",
    "testingPath = r\"static\\images\\testing\""
   ]
  },
  {
   "cell_type": "code",
   "execution_count": 130,
   "metadata": {},
   "outputs": [],
   "source": [
    "animals = os.listdir(datasetPath)"
   ]
  },
  {
   "cell_type": "code",
   "execution_count": 145,
   "metadata": {},
   "outputs": [],
   "source": [
    "#the below code sends all the images present in animals dataset to the model we developed. the ones whose recognization is correct is put into a directory named as \"images\" present in static folder.\n",
    "\n",
    "count = 0\n",
    "for animal in animals:\n",
    "\n",
    "    animalName = animal\n",
    "\n",
    "    animalDir = os.path.join(datasetPath, animalName)\n",
    "    animalImages = os.listdir(animalDir)\n",
    "\n",
    "    df = pd.DataFrame(columns = ['imagePath','imageName','animalName','output'])\n",
    "    for animalImage in animalImages:\n",
    "\n",
    "        animalImagePath = os.path.join(animalDir,animalImage)\n",
    "        \n",
    "        output = identifyAnimal(animalImagePath)['Animal'].lower()\n",
    "\n",
    "        record = {'imagePath':animalImagePath,'imageName':animalImage,'animalName':animalName,'output':output}\n",
    "        record = pd.Series(record)\n",
    "        df = pd.concat([df, record.to_frame().T],ignore_index=True)\n",
    "        df['correct'] = df.animalName == df.output\n",
    "        df = df[df.correct]\n",
    "\n",
    "    for index,record in df.iterrows():\n",
    "        fromPath = record.imagePath\n",
    "\n",
    "        imageCopyName = f\"{record.animalName}_{record.imageName}\"\n",
    "        toPath = os.path.join(testingPath,imageCopyName)\n",
    "\n",
    "        shutil.copy(fromPath,toPath)"
   ]
  }
 ],
 "metadata": {
  "kernelspec": {
   "display_name": "Python 3",
   "language": "python",
   "name": "python3"
  },
  "language_info": {
   "codemirror_mode": {
    "name": "ipython",
    "version": 3
   },
   "file_extension": ".py",
   "mimetype": "text/x-python",
   "name": "python",
   "nbconvert_exporter": "python",
   "pygments_lexer": "ipython3",
   "version": "3.10.9"
  },
  "orig_nbformat": 4
 },
 "nbformat": 4,
 "nbformat_minor": 2
}
